{
 "cells": [
  {
   "cell_type": "markdown",
   "metadata": {},
   "source": [
    "# <center>省份简称汉字图片分类\n",
    "\n",
    "　　本次考试的任务是省份简称汉字识别，整个汉字数据集保存在程序目录下的characterData文件夹中，共有31个子文件夹，对应31个省级行政区简称，包括22个省、5个自治区、4个直辖市，每个子文件夹包含同汉字图片。"
   ]
  },
  {
   "cell_type": "markdown",
   "metadata": {},
   "source": [
    "## 1、Bigwork要求\n",
    "　　请搭建一个卷积神经网络模型对数据集进行训练。使模型准确率不低于80%，并使用训练好的模型对predict文件夹中的150张图片进行预测，将预测结果保存为csv文件，编码为utf_8_sig。\n",
    "<br>　　保存的csv文件格式要求如下：\n",
    "- header分别为“picture”和“label”。\n",
    "- 第一列为图片名称，如：“1.jpg”，第二列为标签，如：“沪”。\n",
    "\n",
    "|picture|label|\n",
    "|:----:|:----:|\n",
    "|1.jpg|津|\n",
    "|2.jpg|甘|\n",
    "|3.jpg|苏|\n",
    "|4.jpg|黑|\n",
    "|5.jpg|桂|\n",
    "\n",
    "## 2、参考步骤\n",
    "1）建议在GPU环境下运行\n",
    "<br>2）使用tf.keras.preprocessing.image.ImageDataGenerator函数定义数据集划分比例\n",
    "<br>3）使用flow_from_directory方法从文件夹中读取数据集并进行划分\n",
    "<br>4）搭建一个三层卷积神经网络，输入图像大小为(20,20)，卷积核数量分别为32、64、64，卷积核大小都为(3,3)。"
   ]
  }
 ],
 "metadata": {
  "kernelspec": {
   "display_name": "Python 3",
   "language": "python",
   "name": "python3"
  },
  "language_info": {
   "codemirror_mode": {
    "name": "ipython",
    "version": 3
   },
   "file_extension": ".py",
   "mimetype": "text/x-python",
   "name": "python",
   "nbconvert_exporter": "python",
   "pygments_lexer": "ipython3",
   "version": "3.6.5"
  }
 },
 "nbformat": 4,
 "nbformat_minor": 4
}
